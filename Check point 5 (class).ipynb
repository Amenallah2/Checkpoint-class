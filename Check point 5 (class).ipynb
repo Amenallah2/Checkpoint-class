{
 "cells": [
  {
   "cell_type": "code",
   "execution_count": 23,
   "id": "0fd883f7",
   "metadata": {},
   "outputs": [
    {
     "name": "stdout",
     "output_type": "stream",
     "text": [
      "1 2 3\n",
      "(1, 2, 3)\n"
     ]
    }
   ],
   "source": [
    "class Point3d():\n",
    "    def __init__(self,x, y,z):\n",
    "        self.x=x\n",
    "        self.y=y\n",
    "        self.z=z\n",
    "    \n",
    "    def printi(self):\n",
    "        return (self.x,self.y,self.z)\n",
    "\n",
    "my_point= Point3d(1,2,3)\n",
    "print(my_point.x,my_point.y,my_point.z)\n",
    "print(my_point.printi())"
   ]
  },
  {
   "cell_type": "code",
   "execution_count": 27,
   "id": "2c05ce56",
   "metadata": {},
   "outputs": [
    {
     "name": "stdout",
     "output_type": "stream",
     "text": [
      "area= 12 perimeter= 14\n"
     ]
    }
   ],
   "source": [
    "class rectangle():\n",
    "    def __init__(self,length,width):\n",
    "        self.length=length\n",
    "        self.width=width\n",
    "        \n",
    "    def area(self):\n",
    "        a=self.length*self.width\n",
    "        return a\n",
    "    def perimeter(self):\n",
    "        p=(self.length*2)+(self.width*2)\n",
    "        return p\n",
    "        \n",
    "        \n",
    "my_rectangle= rectangle(4,3)\n",
    "print('area=',my_rectangle.area(),'perimeter=',my_rectangle.perimeter())\n",
    "    "
   ]
  },
  {
   "cell_type": "code",
   "execution_count": 36,
   "id": "50183a13",
   "metadata": {},
   "outputs": [
    {
     "name": "stdout",
     "output_type": "stream",
     "text": [
      "78.53981633974483 31.41592653589793 interieur\n"
     ]
    }
   ],
   "source": [
    "import math\n",
    "class circle():\n",
    "    def __init__(self,o,r):\n",
    "        self.o=o\n",
    "        self.r=r\n",
    "    \n",
    "    def area(self):\n",
    "        a=((self.r)**2)*math.pi\n",
    "        return a\n",
    "    def perimeter(self):\n",
    "        p=2*self.r*math.pi\n",
    "        return p\n",
    "    def isInside(self,A):\n",
    "        \n",
    "        ab=math.sqrt(((A[0]-self.o[0])**2)+((A[1]-self.o[1])**2))\n",
    "        if ab<=self.r:\n",
    "            return ('interieur')\n",
    "        else:\n",
    "            return ('exterieur')\n",
    "                    \n",
    "x= circle((1,5),5)\n",
    "A= (2,3)                    \n",
    "print (x.area() ,x.perimeter(),x.isInside(A))"
   ]
  },
  {
   "cell_type": "code",
   "execution_count": 84,
   "id": "d41085c0",
   "metadata": {},
   "outputs": [
    {
     "name": "stdout",
     "output_type": "stream",
     "text": [
      "Enter amount to deposit :100\n",
      "Enter amount to withdraw :400\n",
      "Balance after deposit : 300\n",
      " Insufficient balance\n"
     ]
    }
   ],
   "source": [
    "class bank():\n",
    "    def __init__(self,balance):\n",
    "        self.balance=balance\n",
    "        \n",
    "    def deposit(self,new1):\n",
    "        new1=self.balance+depo\n",
    "        self.balance=new1\n",
    "        print ('Balance after deposit :',new1 ,end='\\n')\n",
    "        return ''\n",
    "    def withdraw(self,new2):\n",
    "        if self.balance-wit>=0:\n",
    "            new2=self.balance-wit\n",
    "            self.balance=new2\n",
    "            print ('Balance after withdraw:',new2,end='\\n')\n",
    "            print('Remaining balance:', self.balance,end='\\n')\n",
    "            return ' '\n",
    "        else:\n",
    "            return 'Insufficient balance'\n",
    "       \n",
    "\n",
    "#account default balance    \n",
    "x= bank(int(200))\n",
    "#input deposite /with draw\n",
    "depo= int(input('Enter amount to deposit :',))\n",
    "wit= int(input('Enter amount to withdraw :',))\n",
    "\n",
    "print(x.deposit(depo),x.withdraw(wit))\n"
   ]
  },
  {
   "cell_type": "code",
   "execution_count": null,
   "id": "a1a0b7dc",
   "metadata": {},
   "outputs": [],
   "source": []
  },
  {
   "cell_type": "code",
   "execution_count": null,
   "id": "27bd52ff",
   "metadata": {},
   "outputs": [],
   "source": []
  }
 ],
 "metadata": {
  "kernelspec": {
   "display_name": "Python 3",
   "language": "python",
   "name": "python3"
  },
  "language_info": {
   "codemirror_mode": {
    "name": "ipython",
    "version": 3
   },
   "file_extension": ".py",
   "mimetype": "text/x-python",
   "name": "python",
   "nbconvert_exporter": "python",
   "pygments_lexer": "ipython3",
   "version": "3.8.8"
  }
 },
 "nbformat": 4,
 "nbformat_minor": 5
}
